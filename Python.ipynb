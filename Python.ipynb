{
  "nbformat": 4,
  "nbformat_minor": 0,
  "metadata": {
    "colab": {
      "provenance": [],
      "authorship_tag": "ABX9TyMCVFuuf3fCVQO+lKPG6F5F",
      "include_colab_link": true
    },
    "kernelspec": {
      "name": "python3",
      "display_name": "Python 3"
    },
    "language_info": {
      "name": "python"
    }
  },
  "cells": [
    {
      "cell_type": "markdown",
      "metadata": {
        "id": "view-in-github",
        "colab_type": "text"
      },
      "source": [
        "<a href=\"https://colab.research.google.com/github/PriyadharsanVK/Python_Programs/blob/main/Python.ipynb\" target=\"_parent\"><img src=\"https://colab.research.google.com/assets/colab-badge.svg\" alt=\"Open In Colab\"/></a>"
      ]
    },
    {
      "cell_type": "code",
      "execution_count": 4,
      "metadata": {
        "id": "sDHzKkBBTl6C",
        "colab": {
          "base_uri": "https://localhost:8080/"
        },
        "outputId": "ead25c93-b3b1-4add-c021-83c8c0c7845b"
      },
      "outputs": [
        {
          "output_type": "stream",
          "name": "stdout",
          "text": [
            "Enter the Value of a :3\n",
            "Enter the Value of b :4\n",
            "The Addition of a and b : 7\n"
          ]
        }
      ],
      "source": [
        "a=int(input(\"Enter the Value of a :\"))\n",
        "b=int(input(\"Enter the Value of b :\"))\n",
        "c=a+b\n",
        "print(\"The Addition of a and b :\",c)"
      ]
    },
    {
      "cell_type": "code",
      "source": [
        "name=input(\"Enter your Name :\")\n",
        "age=input(\"Enter your Age :\")\n",
        "degree=input(\"Enter your Qualification :\")\n",
        "job=input(\"Enter your Job :\")\n",
        "print(\"\\n\\tYour Info\")\n",
        "print(\"Name          :\",name)\n",
        "print(\"Age           :\",age)\n",
        "print(\"Qualification :\",degree)\n",
        "print(\"Job           :\",job)"
      ],
      "metadata": {
        "colab": {
          "base_uri": "https://localhost:8080/"
        },
        "id": "bksvyYT7iBkh",
        "outputId": "6db7a3f6-0cad-44e4-c471-db5bc17de42f"
      },
      "execution_count": 6,
      "outputs": [
        {
          "output_type": "stream",
          "name": "stdout",
          "text": [
            "Enter your Name :Priyadharsan\n",
            "Enter your Age :18\n",
            "Enter your Qualification :B.Tech\n",
            "Enter your Job :College Student\n",
            "\n",
            "\tYour Info\n",
            "Name          : Priyadharsan\n",
            "Age           : 18\n",
            "Qualification : B.Tech\n",
            "Job           : College Student\n"
          ]
        }
      ]
    },
    {
      "cell_type": "code",
      "source": [
        "name=input(\"Enter Your Name :\")\n",
        "Reg_no=input(\"Enter Your Register Number :\")\n",
        "Mark1=int(input(\"Enter Your Mark 1 :\"))\n",
        "Mark2=int(input(\"Enter Your Mark 2 :\"))\n",
        "Mark3=int(input(\"Enter Your Mark 3 :\"))\n",
        "Mark4=int(input(\"Enter Your Mark 4 :\"))\n",
        "Tot=Mark1+Mark2+Mark3+Mark4\n",
        "Avg=Tot/4\n",
        "print(\"\\n\\tMark List\")\n",
        "print(\"Name    :\",name)\n",
        "print(\"Reg.No. :\",Reg_no)\n",
        "print(\"Total   :\",Tot)\n",
        "print(\"Average :\",Avg)"
      ],
      "metadata": {
        "colab": {
          "base_uri": "https://localhost:8080/"
        },
        "id": "qT7qlYeYjWVl",
        "outputId": "1d47290a-8fea-463e-cae0-c09b86b138e9"
      },
      "execution_count": 8,
      "outputs": [
        {
          "output_type": "stream",
          "name": "stdout",
          "text": [
            "Enter Your Name :Priyadharsan\n",
            "Enter Your Register Number :720822108045\n",
            "Enter Your Mark 1 :88\n",
            "Enter Your Mark 2 :89\n",
            "Enter Your Mark 3 :91\n",
            "Enter Your Mark 4 :90\n",
            "\n",
            "\tMark List\n",
            "Name    : Priyadharsan\n",
            "Reg.No. : 720822108045\n",
            "Total   : 358\n",
            "Average : 89.5\n"
          ]
        }
      ]
    }
  ]
}